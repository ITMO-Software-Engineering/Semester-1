{
 "cells": [
  {
   "cell_type": "markdown",
   "metadata": {
    "collapsed": true,
    "pycharm": {
     "name": "#%% md\n"
    }
   },
   "source": [
    "```basic\n",
    "Private Sub CommandButton1_Click()\n",
    "\n",
    "    Dim rg As Range\n",
    "    \n",
    "    For Each rg In Range(\"G4:Y7\")\n",
    "        If (rg.Value = 0) Then\n",
    "            rg.Select\n",
    "            Selection.Font.Bold = True\n",
    "        ElseIf (rg.Value = 1) Then\n",
    "            rg.Select\n",
    "            rg.Interior.ColorIndex = 3\n",
    "        End If\n",
    "    Next rg\n",
    "End Sub\n",
    "```"
   ]
  },
  {
   "cell_type": "markdown",
   "source": [
    "```basic\n",
    "Private Sub CommandButton2_Click()\n",
    "\n",
    "    Dim rg As Range\n",
    "    Set rg = Range(\"G4:Y7\")\n",
    "    rg.Font.Bold = False\n",
    "    rg.Interior.ColorIndex = 0\n",
    "    \n",
    "End Sub\n",
    "```"
   ],
   "metadata": {
    "collapsed": false
   }
  }
 ],
 "metadata": {
  "kernelspec": {
   "display_name": "Python 3",
   "language": "python",
   "name": "python3"
  },
  "language_info": {
   "codemirror_mode": {
    "name": "ipython",
    "version": 2
   },
   "file_extension": ".py",
   "mimetype": "text/x-python",
   "name": "python",
   "nbconvert_exporter": "python",
   "pygments_lexer": "ipython2",
   "version": "2.7.6"
  }
 },
 "nbformat": 4,
 "nbformat_minor": 0
}