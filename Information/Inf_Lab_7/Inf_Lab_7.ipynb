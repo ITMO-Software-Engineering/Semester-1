{
 "cells": [
  {
   "cell_type": "markdown",
   "metadata": {
    "collapsed": true,
    "pycharm": {
     "name": "#%% md\n"
    }
   },
   "source": [
    "```LaTeX\n",
    "\\documentclass[a4paper,24pt]{book}\n",
    "% Variant 1\n",
    "\n",
    "\\usepackage{indentfirst}\n",
    "\\usepackage{geometry}\n",
    "\\usepackage{graphicx}\n",
    "\\usepackage{makecell}\n",
    "\\usepackage{fancyhdr}\n",
    "\\usepackage[utf8]{inputenc}\n",
    "\\usepackage[russian]{babel}\n",
    "\n",
    "\\geometry{left=0.8cm,right=0.8cm,top=4cm,bottom=4cm}\n",
    "\n",
    "\\pagestyle{fancy}\n",
    "\\fancyhf{}\n",
    "\\renewcommand{\\headrulewidth}{0mm}\n",
    "\\lfoot{\\thepage}\n",
    "\n",
    "\\begin{document}\n",
    "\n",
    "\\begin{tabular}{|p{86mm}|p{86mm}|}\n",
    "\n",
    "    \\newcommand{\\innertable}{\n",
    "        \\begin{tabular}{c|c|c|c|c|c}\n",
    "            \\hline\n",
    "            $q$ & \\makecell[c]{\\rotatebox{90}{Приближенное} \\rotatebox{90}{значение л}} & \\makecell[c]{Верхним\\\\ граница\\\\абсолютной\\\\ погрешности} & $\\Delta$ & $h$ & $\\lambda$  \\\\[2pt]\n",
    "            \\hline\n",
    "            $1$ & $\\frac{3}{1}$ & $\\frac{1}{2}=0.5000$ & $0,1416$ & $0,1416$ & $3,5$\\\\[3pt]\n",
    "            $2$ & $\\frac{6}{2}$ & $\\frac{1}{4}=0,2500$ & $0,1416$ & $0,2832$ & $1,8$\\\\[3pt]\n",
    "            $3$ & $\\frac{9}{3}$ & $\\frac{1}{6}=0,1667$ & $0,1416$ & $0,4248$ & $1,2$\\\\[3pt]\n",
    "            $4$ & $\\frac{13}{4}$ & $\\frac{1}{8}=0,1250$ & $0,1084$ & $0,4336$ & $1.2$\\\\[3pt]\n",
    "            $5$ & $\\frac{16}{5}$ & $\\frac{1}{10}=0,1000$ & $0,1416$ & $0,2832$ & $1,7$\\\\[3pt]\n",
    "            $6$ & $\\frac{19}{6}$ & $\\frac{1}{12}=0,0833$ & $0,0251$ & $0,1504$ & $3,3$\\\\[3pt]\n",
    "            $7$ & $\\frac{22}{7}$ & $\\frac{1}{14}=0,0714$ & $0,0013$ & $0,0089$ & $56,5(!)$\\\\[3pt]\n",
    "            $8$ & $\\frac{25}{8}$ & $\\frac{1}{15}=0,0625$ & $0,0166$ & $0,1327$ & $3,8$\\\\[3pt]\n",
    "            $9$ & $\\frac{28}{9}$ & $\\frac{1}{18}=0,0556$ & $0,0305$ & $0,2743$ & $1,8$\\\\[3pt]\n",
    "            $10$ & $\\frac{31}{10}$ & $\\frac{1}{20}=0,0500$ & $0,0416$ & $0,4159$ & $1,2$\\\\[3pt]\n",
    "            \\hline\n",
    "        \\end{tabular}\n",
    "    }\n",
    "\n",
    "    \\ \\ Величину\\par $$\\lambda=\\frac{1}{2h}=\\frac{1}{2|q\\alpha-p|}$$\\par назовем коэффициентом выгодности. Его смысл очень прост: коэффициент выгодности показывает, во сколько раз фактическая абсолютная погрешность меньше максимально возможной. Чем больше $\\lambda$, тем выгоднее приближение.\\par Очевидно,\\par $$1\\le\\lambda<\\infty,$$\\par $$\\lambda  h=\\frac{1}{2}$$\\par \\ \\ Не следует думать, что более мелкие доли всегда дают более точное приближение! Может случиться, что при нанесении на числовую ось восьмых долей число а занимает менее выгодное положение, чем при нанесении седьмых. Сделаем опыт с числом л, аппроксимируя его разными долями — от первых до десятых. Вычисления опущены, читатель может воспроизвести их сам.\\par\\ \\par \\innertable & \\ \\ Эта таблица показывает, что для аппроксимации л седьмые доли резко выгоднее ближайших соседних долей. Фактическая погрешность в 56 раз меньше, чем можно думать, судя по размеру долей *).\\par \\ \\ На рисунке 2 показано расположение числа л на числовой оси. Случайно (а впрочем, случайно ли?) л оказывается очень близко к 3-~. Если бы нам заранее предписали аппроксимировать так, чтобы абсолютная\\par \\includegraphics[scale=0.65]{pic 1}\\par погрешность не превысила 0,0013, какие доли выбрали бы? Мы записали бы условие $\\frac{1}{2q}\\le 0,0013$ откуда $q\\ge 385$, а Архимед достиг той же точности, взяв гораздо меньший знаменатель.\\par \\ \\ Теперь вы убедились, читатель, что Архимед выбрал седьмые доли не случайно?\\par \\ \\ Через много веков голландский математик Адриан Меций дал приближенное значение\\par $$\\pi=\\frac{355}{113}$$\\par Число Меция обладает теми же удивительными свойствами, что и числе Архимеда: знаменатель 113 гораздо\\par ---------------\\par *) Вычисление дает $\\lambda=\\frac{1}{2\\cdot0,0089}=56,2.$\\par Чтобы правильно получить цифры десятых, надо взять $h$ с пятью цифрами после запятой\n",
    "\n",
    "\n",
    "\\end{tabular}\n",
    "\n",
    "\\end{document}\n",
    "```"
   ]
  },
  {
   "cell_type": "markdown",
   "source": [
    "```LaTeX\n",
    "\\documentclass{article}\n",
    "\n",
    "\\usepackage{tikz}\n",
    "\\usetikzlibrary{automata,positioning}\n",
    "\n",
    "\\begin{document}\n",
    "\\begin{tikzpicture}[\n",
    "roundnode/.style={circle, draw=black!100, thin, minimum size=4mm},\n",
    "node distance=2cm\n",
    "]\n",
    "\\tikzstyle{arrow} = [thin,->,>=stealth]\n",
    "%Nodes\n",
    "\\node[roundnode]    (b1)                       {$b_1$};\n",
    "\\node[roundnode]    (b2)     [right=of b1]     {$b_2$};\n",
    "\\node[roundnode]    (b3)     [right=of b2]     {$b_3$};\n",
    "\\node[roundnode]    (b4)     [below=of b1]     {$b_4$};\n",
    "\\node[roundnode]    (b5)     [below=of b2]     {$b_5$};\n",
    "\\node[roundnode]    (b6)     [below=of b3]     {$b_6$};\n",
    "\n",
    "\\path[arrow]\n",
    "        (b1) edge node[anchor=center, above] {$z_3$} (b2) edge node[anchor=center, above] {$\\quad z_3$} (b5)\n",
    "        (b3) edge node[anchor=center, above] {$z_2$} (b2)\n",
    "        (b4) edge node[anchor=center, left] {$z_1$} (b1)\n",
    "        (b5) edge node[anchor=center, below] {$z_3$} (b4) edge node[anchor=center, below, text width=2.2cm] {$ $\\\\$z_3$} (b3)\n",
    "        (b2) edge node[anchor=center, above, text width=1.6cm, ] {$z_3$\\\\ $ $  \\\\ $ $} (b6)\n",
    "        (b6) edge node[anchor=center, left] {$z_3$} (b3)\n",
    "        \n",
    "        (b2) edge [loop above] node {$z_2$} (b2)\n",
    "        (b1) edge [loop left] node {$z_1$} (b1)\n",
    "        (b4) edge [loop left] node {$z_3$} (b4)\n",
    "        \n",
    "        (b3) edge [bend left, right] node {$z_1$} (b6)\n",
    "        (b6) edge [bend left, below] node {$z_2$} (b4);\n",
    "\\end{tikzpicture}\n",
    "\\end{document}\n",
    "```\n"
   ],
   "metadata": {
    "collapsed": false
   }
  }
 ],
 "metadata": {
  "kernelspec": {
   "display_name": "Python 3",
   "language": "python",
   "name": "python3"
  },
  "language_info": {
   "codemirror_mode": {
    "name": "ipython",
    "version": 2
   },
   "file_extension": ".py",
   "mimetype": "text/x-python",
   "name": "python",
   "nbconvert_exporter": "python",
   "pygments_lexer": "ipython2",
   "version": "2.7.6"
  }
 },
 "nbformat": 4,
 "nbformat_minor": 0
}