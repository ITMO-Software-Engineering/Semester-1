{
 "cells": [
  {
   "cell_type": "markdown",
   "metadata": {
    "collapsed": true,
    "pycharm": {
     "name": "#%% md\n"
    }
   },
   "source": [
    "```basic\n",
    "Private Sub CheckBox1_Click()\n",
    "\n",
    "End Sub\n",
    "```"
   ]
  },
  {
   "cell_type": "markdown",
   "source": [
    "```basic\n",
    "Private Sub CheckBox3_Click()\n",
    "\n",
    "End Sub\n",
    "```"
   ],
   "metadata": {
    "collapsed": false,
    "pycharm": {
     "name": "#%% md\n"
    }
   }
  },
  {
   "cell_type": "markdown",
   "source": [
    "```basic\n",
    "Private Sub ComboBox1_Change()\n",
    "\n",
    "End Sub\n",
    "```"
   ],
   "metadata": {
    "collapsed": false,
    "pycharm": {
     "name": "#%% md\n"
    }
   }
  },
  {
   "cell_type": "markdown",
   "source": [
    "```basic\n",
    "Private Sub CommandButton1_Click()\n",
    "\n",
    "CheckBox1 = Null\n",
    "CheckBox2 = Null\n",
    "CheckBox3 = Null\n",
    "CheckBox4 = Null\n",
    "OptionButton1 = Null\n",
    "OptionButton2 = Null\n",
    "OptionButton3 = Null\n",
    "OptionButton4 = Null\n",
    "ComboBox1 = Null\n",
    "TextBox1 = Null\n",
    "\n",
    "End Sub\n",
    "```"
   ],
   "metadata": {
    "collapsed": false,
    "pycharm": {
     "name": "#%% md\n"
    }
   }
  },
  {
   "cell_type": "markdown",
   "source": [
    "```basic\n",
    "Private Sub CommandButton2_Click()\n",
    "\n",
    "Dim point\n",
    "point = 0\n",
    "\n",
    "If OptionButton1.Value = True Then\n",
    "    point = point + 1\n",
    "End If\n",
    "\n",
    "If CheckBox2.Value = True And CheckBox4.Value = True And CheckBox1.Value = False And CheckBox3.Value = False Then\n",
    "    point = point + 1\n",
    "End If\n",
    "\n",
    "If TextBox1.Value = \"Academic Free License 3.0\" Then\n",
    "    point = point + 2\n",
    "End If\n",
    "If ComboBox1.Value = \"2\" Then\n",
    "    point = point + 1\n",
    "End If\n",
    "MsgBox \"Your Score is: \" & point\n",
    "\n",
    "End Sub\n",
    "```"
   ],
   "metadata": {
    "collapsed": false,
    "pycharm": {
     "name": "#%% md\n"
    }
   }
  },
  {
   "cell_type": "markdown",
   "source": [
    "```basic\n",
    "Private Sub Document_New()\n",
    "\n",
    "End Sub\n",
    "```"
   ],
   "metadata": {
    "collapsed": false,
    "pycharm": {
     "name": "#%% md\n"
    }
   }
  },
  {
   "cell_type": "markdown",
   "source": [
    "```basic\n",
    "Private Sub Document_Open()\n",
    "\n",
    "ComboBox1.AddItem \"1\"\n",
    "ComboBox1.AddItem \"2\"\n",
    "ComboBox1.AddItem \"3\"\n",
    "ComboBox1.AddItem \"4\"\n",
    "ComboBox1.AddItem \"5\"\n",
    "ComboBox1.AddItem \"6\"\n",
    "ComboBox1.AddItem \"7\"\n",
    "ComboBox1.AddItem \"8\"\n",
    "ComboBox1.AddItem \"9\"\n",
    "ComboBox1.AddItem \"10\"\n",
    "ComboBox1.AddItem \"11\"\n",
    "ComboBox1.AddItem \"12\"\n",
    "\n",
    "End Sub\n",
    "```"
   ],
   "metadata": {
    "collapsed": false,
    "pycharm": {
     "name": "#%% md\n"
    }
   }
  },
  {
   "cell_type": "markdown",
   "source": [
    "```basic\n",
    "Private Sub OptionButton1_Click()\n",
    "\n",
    "End Sub\n",
    "```"
   ],
   "metadata": {
    "collapsed": false,
    "pycharm": {
     "name": "#%% md\n"
    }
   }
  }
 ],
 "metadata": {
  "kernelspec": {
   "display_name": "Python 3",
   "language": "python",
   "name": "python3"
  },
  "language_info": {
   "codemirror_mode": {
    "name": "ipython",
    "version": 2
   },
   "file_extension": ".py",
   "mimetype": "text/x-python",
   "name": "python",
   "nbconvert_exporter": "python",
   "pygments_lexer": "ipython2",
   "version": "2.7.6"
  }
 },
 "nbformat": 4,
 "nbformat_minor": 0
}