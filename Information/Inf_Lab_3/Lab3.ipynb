{
 "cells": [
  {
   "cell_type": "code",
   "execution_count": null,
   "metadata": {
    "collapsed": true
   },
   "outputs": [],
   "source": [
    "def variantToFace(variant):\n",
    "    eyeId = int(variant % 5)\n",
    "    noseId = int(variant % 4)\n",
    "    mouseId = int(variant % 7)\n",
    "\n",
    "    eyeDict = {\n",
    "        0: \":\",\n",
    "        1: \";\",\n",
    "        2: \"X\",\n",
    "        3: \"8\",\n",
    "        4: \"=\"\n",
    "    }\n",
    "    noseDict = {\n",
    "        0: \"-\",\n",
    "        1: \"<\",\n",
    "        2: \"-{\",\n",
    "        3: \"<{\"\n",
    "    }\n",
    "    mouseDict = {\n",
    "        0: \"(\",\n",
    "        1: \")\",\n",
    "        2: \"O\",\n",
    "        3: \"|\",\n",
    "        4: \"\\\\\",\n",
    "        5: \"/\",\n",
    "        6: \"P\"\n",
    "    }\n",
    "\n",
    "    eye = eyeDict.get(eyeId, \"Invalid Id\")\n",
    "    nose = noseDict.get(noseId, \"Invalid Id\")\n",
    "    mouse = mouseDict.get(mouseId, \"Invalid Id\")\n",
    "    face = eye + nose + mouse\n",
    "    return face\n",
    "\n",
    "regix = variantToFace(336184)\n",
    "print(\"The face is: \" + regix)\n",
    "\n",
    "while True:\n",
    "    Str = input(\"Please input the String\")\n",
    "    print(Str.count(regix))"
   ]
  },
  {
   "cell_type": "code",
   "execution_count": null,
   "outputs": [],
   "source": [
    "import re\n",
    "\n",
    "while True:\n",
    "    Str = input(\"Please input the string\")\n",
    "    print(re.sub(r'([0-1]\\d|2[0-4]):([0-5]\\d|60)(:([0-5]\\d|60))?', \"TBD\", Str, count=0, flags=0))"
   ],
   "metadata": {
    "collapsed": false,
    "pycharm": {
     "name": "#%%\n"
    }
   }
  },
  {
   "cell_type": "code",
   "execution_count": null,
   "outputs": [],
   "source": [
    "import re\n",
    "\n",
    "while True:\n",
    "    Str = input(\"Please input the email adress: \")\n",
    "    if re.match(r'^[0-9a-zA-Z_]+(\\.[0-9a-zA-Z_]+)*@[a-zA-Z]+(\\.[a-zA-Z]+)+$',Str,flags=0)==None:\n",
    "        print(\"Fail!\")\n",
    "    else:\n",
    "        server = Str.split(\"@\")[1]\n",
    "        print(server)\n"
   ],
   "metadata": {
    "collapsed": false,
    "pycharm": {
     "name": "#%%\n"
    }
   }
  }
 ],
 "metadata": {
  "kernelspec": {
   "display_name": "Python 3",
   "language": "python",
   "name": "python3"
  },
  "language_info": {
   "codemirror_mode": {
    "name": "ipython",
    "version": 2
   },
   "file_extension": ".py",
   "mimetype": "text/x-python",
   "name": "python",
   "nbconvert_exporter": "python",
   "pygments_lexer": "ipython2",
   "version": "2.7.6"
  }
 },
 "nbformat": 4,
 "nbformat_minor": 0
}